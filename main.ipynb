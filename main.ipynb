{
  "cells": [
    {
      "cell_type": "markdown",
      "metadata": {
        "id": "vnqS-SOZ0eQx"
      },
      "source": [
        "Given\n",
        "$ \\displaystyle\n",
        "    \\frac{d^2 y}{d x^2} - \\frac{c_1 y}{c_2 + y} = 0\n",
        "$\n",
        "find $y$"
      ]
    },
    {
      "cell_type": "markdown",
      "metadata": {
        "id": "jXxOLWY-0sdu"
      },
      "source": [
        "<!-- $ \\displaystyle\n",
        "\\mathcal{L} = \\int_{C} \\left| \\frac{d^2 y}{d x^2} - \\frac{c_1 y}{c_2 + y} \\right| \\; dC\n",
        "$ -->\n",
        "\n",
        "$ \\displaystyle\n",
        "\\mathcal{L} = \\int_{C} \\left( \\frac{d^2 y}{d x^2} - \\frac{c_1 y}{c_2 + y} \\right)^2 \\; dC\n",
        "$\n",
        "\n",
        "\n",
        "$C$ – $c_1$, $c_2$ space\n",
        "\n",
        "\n",
        "\\begin{cases}\n",
        "    c_1 = \\sigma^2 \\quad \\text{(normalized)}\\\\\n",
        "    c_2 = 1\n",
        "\\end{cases}\n",
        "\n"
      ]
    },
    {
      "cell_type": "markdown",
      "metadata": {
        "id": "yE6xpktfCa6x"
      },
      "source": [
        "# DARTS"
      ]
    },
    {
      "cell_type": "markdown",
      "metadata": {
        "id": "y6lPpVmdwQ2C"
      },
      "source": [
        "$ \\displaystyle\n",
        "\\overline{o}^{(i, j)}(x) = \\sum_{o \\in \\mathcal{O}} \\left( \\alpha_o^{(i,j)} o(x) \\right)\n",
        "\\\\ \\displaystyle\n",
        "\\forall (i, j) \\; R = (\\sum_{o \\in \\mathcal{O}} \\alpha_o^{(i, j)} - 1)^2\n",
        "$"
      ]
    },
    {
      "cell_type": "markdown",
      "metadata": {
        "id": "aFSLZ4PfCePp"
      },
      "source": [
        "# Code"
      ]
    },
    {
      "cell_type": "code",
      "execution_count": 1,
      "metadata": {
        "id": "4Q0gm4GgCT-1"
      },
      "outputs": [],
      "source": [
        "import sympy as sp\n",
        "from jax import random\n",
        "import jax.numpy as np\n",
        "\n",
        "# !rm /etc/localtime\n",
        "# !ln -s /usr/share/zoneinfo/Europe/Vilnius /etc/localtime\n",
        "\n",
        "from util.plot import Plotting\n",
        "from util.print import a, d, pad, info\n",
        "from util.dotdict import DotDict\n",
        "from network import Network\n",
        "from train import train"
      ]
    },
    {
      "cell_type": "code",
      "execution_count": 2,
      "metadata": {
        "id": "pkx8jF17zTE_"
      },
      "outputs": [],
      "source": [
        "# def actual_func(z, c_1, c_2=1, c_3=0):\n",
        "#     return c_1 * z - c_2 * c_1 * np.log(c_2 + z) + c_3"
      ]
    },
    {
      "cell_type": "code",
      "execution_count": 3,
      "metadata": {},
      "outputs": [],
      "source": [
        "c1 = sp.symbols('c_1')\n",
        "x_bounds = (0, 1)\n",
        "c1_bounds = (0.01, 0.2)"
      ]
    },
    {
      "cell_type": "code",
      "execution_count": 4,
      "metadata": {},
      "outputs": [],
      "source": [
        "loss_model_func = lambda model_y, x, model_d2y: sp.Pow(model_d2y - c1 * (model_y) / (1 + model_y), 2, evaluate=False)\n",
        "loss_integration_func = lambda loss_model: (loss_model, (c1, *c1_bounds))"
      ]
    },
    {
      "cell_type": "code",
      "execution_count": 5,
      "metadata": {},
      "outputs": [],
      "source": [
        "def orig_func(x, c2):\n",
        "  S_0 = 1\n",
        "  d = 1\n",
        "  alpha = np.sqrt(c2)\n",
        "  return S_0 * np.cosh(alpha * x) / np.cosh(alpha * d)"
      ]
    },
    {
      "cell_type": "code",
      "execution_count": 6,
      "metadata": {
        "id": "l-uigxRjY6Ce"
      },
      "outputs": [
        {
          "name": "stderr",
          "output_type": "stream",
          "text": [
            "11:26:43.531 [INFO] Unable to initialize backend 'tpu_driver': NOT_FOUND: Unable to find driver in registry given worker: \n",
            "11:26:43.532 [INFO] Unable to initialize backend 'gpu': NOT_FOUND: Could not find registered platform with name: \"cuda\". Available platform names are: Interpreter Host\n",
            "11:26:43.533 [INFO] Unable to initialize backend 'tpu': INVALID_ARGUMENT: TpuPlatform is not available.\n",
            "11:26:43.914 [INFO] Constructed symbolic model\n",
            "11:26:43.969 [INFO] Integrated\n",
            "11:26:45.470 [INFO] Added boundary condition\n",
            "11:26:46.492 [INFO] Lambdified\n",
            "11:26:46.493 [INFO] Constructed JAXified model\n"
          ]
        }
      ],
      "source": [
        "cell_count = 4\n",
        "network = Network(\n",
        "  loss_model_func,\n",
        "  loss_integration_func,\n",
        "  [\n",
        "    lambda z: 0,\n",
        "    lambda z: 1,\n",
        "    lambda z: z,\n",
        "    lambda z: 1 + z,\n",
        "    lambda z: -z,\n",
        "    lambda z: z*z,\n",
        "    lambda z: z*z*z*z,\n",
        "    lambda z: (sp.exp(z) + sp.exp(-z)) / 2,\n",
        "    # lambda z: sp.sin(z),\n",
        "    # lambda z: sp.exp(z),\n",
        "    # lambda z: sp.Max(z, np.array(0)),\n",
        "    # lambda z: 1 / (1 + sp.exp(-z))\n",
        "  ],\n",
        "  cell_count,\n",
        "  x_bounds,\n",
        "  verbose=1\n",
        ")\n",
        "\n",
        "_, model_y, loss_and_grad, _ = network.get_model()"
      ]
    },
    {
      "cell_type": "code",
      "execution_count": 7,
      "metadata": {
        "id": "AedwGmEgYEFT"
      },
      "outputs": [
        {
          "ename": "KeyError",
          "evalue": "('W',)",
          "output_type": "error",
          "traceback": [
            "\u001b[0;31m---------------------------------------------------------------------------\u001b[0m",
            "\u001b[0;31mKeyError\u001b[0m                                  Traceback (most recent call last)",
            "\u001b[1;32m/home/paul/Desktop/DARTS/main.ipynb Cell 12'\u001b[0m in \u001b[0;36m<cell line: 12>\u001b[0;34m()\u001b[0m\n\u001b[1;32m     <a href='vscode-notebook-cell:/home/paul/Desktop/DARTS/main.ipynb#ch0000011?line=11'>12</a>\u001b[0m \u001b[39mwhile\u001b[39;00m \u001b[39mnot\u001b[39;00m is_final:\n\u001b[1;32m     <a href='vscode-notebook-cell:/home/paul/Desktop/DARTS/main.ipynb#ch0000011?line=12'>13</a>\u001b[0m     plotting\u001b[39m.\u001b[39mfuncs \u001b[39m=\u001b[39m []\n\u001b[0;32m---> <a href='vscode-notebook-cell:/home/paul/Desktop/DARTS/main.ipynb#ch0000011?line=13'>14</a>\u001b[0m     train_results \u001b[39m=\u001b[39m train(\n\u001b[1;32m     <a href='vscode-notebook-cell:/home/paul/Desktop/DARTS/main.ipynb#ch0000011?line=14'>15</a>\u001b[0m         network,\n\u001b[1;32m     <a href='vscode-notebook-cell:/home/paul/Desktop/DARTS/main.ipynb#ch0000011?line=15'>16</a>\u001b[0m         dataset \u001b[39m=\u001b[39;49m [(\u001b[39m1\u001b[39;49m, \u001b[39m1\u001b[39;49m)],\n\u001b[1;32m     <a href='vscode-notebook-cell:/home/paul/Desktop/DARTS/main.ipynb#ch0000011?line=16'>17</a>\u001b[0m         plotting \u001b[39m=\u001b[39;49m plotting,\n\u001b[1;32m     <a href='vscode-notebook-cell:/home/paul/Desktop/DARTS/main.ipynb#ch0000011?line=17'>18</a>\u001b[0m         key \u001b[39m=\u001b[39;49m key,\n\u001b[1;32m     <a href='vscode-notebook-cell:/home/paul/Desktop/DARTS/main.ipynb#ch0000011?line=18'>19</a>\u001b[0m         lr \u001b[39m=\u001b[39;49m \u001b[39m0.0002\u001b[39;49m,\n\u001b[1;32m     <a href='vscode-notebook-cell:/home/paul/Desktop/DARTS/main.ipynb#ch0000011?line=19'>20</a>\u001b[0m         lr_2 \u001b[39m=\u001b[39;49m \u001b[39m0.001\u001b[39;49m,\n\u001b[1;32m     <a href='vscode-notebook-cell:/home/paul/Desktop/DARTS/main.ipynb#ch0000011?line=20'>21</a>\u001b[0m         epochs \u001b[39m=\u001b[39;49m \u001b[39m30\u001b[39;49m,\n\u001b[1;32m     <a href='vscode-notebook-cell:/home/paul/Desktop/DARTS/main.ipynb#ch0000011?line=21'>22</a>\u001b[0m         verbose \u001b[39m=\u001b[39;49m \u001b[39m0\u001b[39;49m,\n\u001b[1;32m     <a href='vscode-notebook-cell:/home/paul/Desktop/DARTS/main.ipynb#ch0000011?line=22'>23</a>\u001b[0m         batch_size \u001b[39m=\u001b[39;49m \u001b[39m16\u001b[39;49m,\n\u001b[1;32m     <a href='vscode-notebook-cell:/home/paul/Desktop/DARTS/main.ipynb#ch0000011?line=23'>24</a>\u001b[0m         W_init \u001b[39m=\u001b[39;49m W,\n\u001b[1;32m     <a href='vscode-notebook-cell:/home/paul/Desktop/DARTS/main.ipynb#ch0000011?line=24'>25</a>\u001b[0m         best \u001b[39m=\u001b[39;49m best\n\u001b[1;32m     <a href='vscode-notebook-cell:/home/paul/Desktop/DARTS/main.ipynb#ch0000011?line=25'>26</a>\u001b[0m     )\n\u001b[1;32m     <a href='vscode-notebook-cell:/home/paul/Desktop/DARTS/main.ipynb#ch0000011?line=27'>28</a>\u001b[0m     W \u001b[39m=\u001b[39m train_results\u001b[39m.\u001b[39mW\n\u001b[1;32m     <a href='vscode-notebook-cell:/home/paul/Desktop/DARTS/main.ipynb#ch0000011?line=28'>29</a>\u001b[0m     loss_history \u001b[39m=\u001b[39m train_results\u001b[39m.\u001b[39mloss_history\n",
            "File \u001b[0;32m~/Desktop/DARTS/train.py:57\u001b[0m, in \u001b[0;36mtrain\u001b[0;34m(network, dataset, plotting, key, lr, lr_2, epochs, verbose, batch_size, W_init, best)\u001b[0m\n\u001b[1;32m     <a href='file:///home/paul/Desktop/DARTS/train.py?line=53'>54</a>\u001b[0m batches \u001b[39m=\u001b[39m batch_dataset(sampleset, batch_size)\n\u001b[1;32m     <a href='file:///home/paul/Desktop/DARTS/train.py?line=55'>56</a>\u001b[0m \u001b[39mfor\u001b[39;00m i, batch \u001b[39min\u001b[39;00m \u001b[39menumerate\u001b[39m(batches): \u001b[39m# minibatches\u001b[39;00m\n\u001b[0;32m---> <a href='file:///home/paul/Desktop/DARTS/train.py?line=56'>57</a>\u001b[0m     loss, grad \u001b[39m=\u001b[39m network\u001b[39m.\u001b[39;49mloss_and_grad(params, batch)\n\u001b[1;32m     <a href='file:///home/paul/Desktop/DARTS/train.py?line=58'>59</a>\u001b[0m     \u001b[39m# TODO: fix params\u001b[39;00m\n\u001b[1;32m     <a href='file:///home/paul/Desktop/DARTS/train.py?line=59'>60</a>\u001b[0m     updates, opt_state \u001b[39m=\u001b[39m optimizer\u001b[39m.\u001b[39mupdate(grad, opt_state)\n",
            "    \u001b[0;31m[... skipping hidden 22 frame]\u001b[0m\n",
            "File \u001b[0;32m~/Desktop/DARTS/network.py:133\u001b[0m, in \u001b[0;36mNetwork.lambdify.<locals>.<lambda>\u001b[0;34m(params, x)\u001b[0m\n\u001b[1;32m    <a href='file:///home/paul/Desktop/DARTS/network.py?line=122'>123</a>\u001b[0m loss_lambdified \u001b[39m=\u001b[39m sp\u001b[39m.\u001b[39mlambdify(\n\u001b[1;32m    <a href='file:///home/paul/Desktop/DARTS/network.py?line=123'>124</a>\u001b[0m     [\u001b[39mself\u001b[39m\u001b[39m.\u001b[39malphas, \u001b[39mself\u001b[39m\u001b[39m.\u001b[39mx],\n\u001b[1;32m    <a href='file:///home/paul/Desktop/DARTS/network.py?line=124'>125</a>\u001b[0m     loss_integrated,\n\u001b[0;32m   (...)\u001b[0m\n\u001b[1;32m    <a href='file:///home/paul/Desktop/DARTS/network.py?line=127'>128</a>\u001b[0m     dummify\u001b[39m=\u001b[39m\u001b[39mTrue\u001b[39;00m,\n\u001b[1;32m    <a href='file:///home/paul/Desktop/DARTS/network.py?line=128'>129</a>\u001b[0m )\n\u001b[1;32m    <a href='file:///home/paul/Desktop/DARTS/network.py?line=130'>131</a>\u001b[0m \u001b[39mself\u001b[39m\u001b[39m.\u001b[39mdebug[\u001b[39m'\u001b[39m\u001b[39mloss_lambdified\u001b[39m\u001b[39m'\u001b[39m] \u001b[39m=\u001b[39m loss_lambdified\n\u001b[0;32m--> <a href='file:///home/paul/Desktop/DARTS/network.py?line=132'>133</a>\u001b[0m loss_lambdified \u001b[39m=\u001b[39m \u001b[39mlambda\u001b[39;00m params, x: vmap(loss_lambdified(params[(\u001b[39m'\u001b[39;49m\u001b[39mW\u001b[39;49m\u001b[39m'\u001b[39;49m,)], x), (\u001b[39mNone\u001b[39;00m, \u001b[39m0\u001b[39m))\n\u001b[1;32m    <a href='file:///home/paul/Desktop/DARTS/network.py?line=134'>135</a>\u001b[0m \u001b[39m# JAXify function\u001b[39;00m\n\u001b[1;32m    <a href='file:///home/paul/Desktop/DARTS/network.py?line=135'>136</a>\u001b[0m loss_and_grad \u001b[39m=\u001b[39m jit(value_and_grad(loss_lambdified, reduce_axes\u001b[39m=\u001b[39m(\u001b[39m\"\u001b[39m\u001b[39mbatch\u001b[39m\u001b[39m\"\u001b[39m,)))\n",
            "\u001b[0;31mKeyError\u001b[0m: ('W',)"
          ]
        }
      ],
      "source": [
        "plotting = Plotting(orig_func, network, x_bounds, c1_bounds)\n",
        "\n",
        "key = random.PRNGKey(7)\n",
        "\n",
        "key, subkey = random.split(key)\n",
        "W = random.uniform(subkey, shape=(len(network.alphas),), minval=0, maxval=0.001)\n",
        "\n",
        "is_final = False\n",
        "\n",
        "best = DotDict({\"loss\": np.inf})\n",
        "\n",
        "while not is_final:\n",
        "    plotting.funcs = []\n",
        "    train_results = train(\n",
        "        network,\n",
        "        dataset = [(1, 1)],\n",
        "        plotting = plotting,\n",
        "        key = key,\n",
        "        lr = 0.0002,\n",
        "        lr_2 = 0.001,\n",
        "        epochs = 30,\n",
        "        verbose = 0,\n",
        "        batch_size = 16,\n",
        "        W_init = W,\n",
        "        best = best\n",
        "    )\n",
        "\n",
        "    W = train_results.W\n",
        "    loss_history = train_results.loss_history\n",
        "\n",
        "    info('Pruning weights...')\n",
        "    network.assign_weights(W)\n",
        "    W, model_y, loss_and_grad, is_final = network.prune_auto()"
      ]
    },
    {
      "cell_type": "code",
      "execution_count": null,
      "metadata": {},
      "outputs": [
        {
          "data": {
            "text/plain": [
              "0.0008529452607035637"
            ]
          },
          "execution_count": 8,
          "metadata": {},
          "output_type": "execute_result"
        }
      ],
      "source": [
        "float(best.loss)"
      ]
    },
    {
      "cell_type": "code",
      "execution_count": null,
      "metadata": {},
      "outputs": [
        {
          "data": {
            "text/latex": [
              "$\\displaystyle 0.0941669441151376 x + 0.90496963262558$"
            ],
            "text/plain": [
              "0.0941669441151376*x + 0.90496963262558"
            ]
          },
          "execution_count": 9,
          "metadata": {},
          "output_type": "execute_result"
        }
      ],
      "source": [
        "y_prediction_last = model_y.subs(zip(network.alphas, W))\n",
        "y_prediction_last"
      ]
    },
    {
      "cell_type": "code",
      "execution_count": null,
      "metadata": {},
      "outputs": [
        {
          "data": {
            "text/latex": [
              "$\\displaystyle 0.000356950975009761 x^{4} + 0.00806085478207511 x^{2} + 0.0734665183777514 x + 0.000397161414527165 \\left(0.00159436748046647 x^{4} + 0.0267749518584571 x^{2} - x + 0.165791414891482 e^{0.232024967670441 x} + 0.62833969796034 + 0.165791414891482 e^{- 0.232024967670441 x}\\right)^{4} + 0.00536580133280784 \\left(0.00159436748046647 x^{4} + 0.0267749518584571 x^{2} - x + 0.165791414891482 e^{0.232024967670441 x} + 0.62833969796034 + 0.165791414891482 e^{- 0.232024967670441 x}\\right)^{2} + 0.0442332706595044 e^{0.232024967670441 x} + 0.0250708367675543 e^{x} + 0.0392199507560371 e^{- 0.000426375986234416 x^{4} - 0.00716032950050424 x^{2} + 0.267426419227812 x - 0.0443370044231415 e^{0.232024967670441 x} - 0.0443370044231415 e^{- 0.232024967670441 x}} + 0.0548858095055828 e^{0.000426375986234416 x^{4} + 0.00716032950050424 x^{2} - 0.267426419227812 x + 0.0443370044231415 e^{0.232024967670441 x} + 0.0443370044231415 e^{- 0.232024967670441 x}} + 0.656584621772166 + 0.0250708367675543 e^{- x} + 0.0442332706595044 e^{- 0.232024967670441 x}$"
            ],
            "text/plain": [
              "0.000356950975009761*x**4 + 0.00806085478207511*x**2 + 0.0734665183777514*x + 0.000397161414527165*(0.00159436748046647*x**4 + 0.0267749518584571*x**2 - x + 0.165791414891482*exp(0.232024967670441*x) + 0.62833969796034 + 0.165791414891482*exp(-0.232024967670441*x))**4 + 0.00536580133280784*(0.00159436748046647*x**4 + 0.0267749518584571*x**2 - x + 0.165791414891482*exp(0.232024967670441*x) + 0.62833969796034 + 0.165791414891482*exp(-0.232024967670441*x))**2 + 0.0442332706595044*exp(0.232024967670441*x) + 0.0250708367675543*exp(x) + 0.0392199507560371*exp(-0.000426375986234416*x**4 - 0.00716032950050424*x**2 + 0.267426419227812*x - 0.0443370044231415*exp(0.232024967670441*x) - 0.0443370044231415*exp(-0.232024967670441*x)) + 0.0548858095055828*exp(0.000426375986234416*x**4 + 0.00716032950050424*x**2 - 0.267426419227812*x + 0.0443370044231415*exp(0.232024967670441*x) + 0.0443370044231415*exp(-0.232024967670441*x)) + 0.656584621772166 + 0.0250708367675543*exp(-x) + 0.0442332706595044*exp(-0.232024967670441*x)"
            ]
          },
          "execution_count": 10,
          "metadata": {},
          "output_type": "execute_result"
        }
      ],
      "source": [
        "y_prediction_best = best.model_y.subs(zip(best.alphas, best.W))\n",
        "y_prediction_best"
      ]
    },
    {
      "cell_type": "code",
      "execution_count": null,
      "metadata": {},
      "outputs": [
        {
          "data": {
            "text/latex": [
              "$\\displaystyle 0.000356950975009761 x^{4} + 0.00806085478207511 x^{2} + 0.0734665183777514 x + 0.000397161414527165 \\left(0.00159436748046647 x^{4} + 0.0267749518584571 x^{2} - x + 0.331582829782963 \\cosh{\\left(0.232024967670441 x \\right)} + 0.62833969796034\\right)^{4} + 0.00536580133280784 \\left(0.00159436748046647 x^{4} + 0.0267749518584571 x^{2} - x + 0.331582829782963 \\cosh{\\left(0.232024967670441 x \\right)} + 0.62833969796034\\right)^{2} + 0.0156658587495457 \\sinh{\\left(0.000426375986234416 x^{4} + 0.00716032950050424 x^{2} - 0.267426419227812 x + 0.088674008846283 \\cosh{\\left(0.232024967670441 x \\right)} \\right)} + 0.0884665413190089 \\cosh{\\left(0.232024967670441 x \\right)} + 0.0501416735351086 \\cosh{\\left(x \\right)} + 0.0941057602616199 \\cosh{\\left(0.000426375986234416 x^{4} + 0.00716032950050424 x^{2} - 0.267426419227812 x + 0.088674008846283 \\cosh{\\left(0.232024967670441 x \\right)} \\right)} + 0.656584621772166$"
            ],
            "text/plain": [
              "0.000356950975009761*x**4 + 0.00806085478207511*x**2 + 0.0734665183777514*x + 0.000397161414527165*(0.00159436748046647*x**4 + 0.0267749518584571*x**2 - x + 0.331582829782963*cosh(0.232024967670441*x) + 0.62833969796034)**4 + 0.00536580133280784*(0.00159436748046647*x**4 + 0.0267749518584571*x**2 - x + 0.331582829782963*cosh(0.232024967670441*x) + 0.62833969796034)**2 + 0.0156658587495457*sinh(0.000426375986234416*x**4 + 0.00716032950050424*x**2 - 0.267426419227812*x + 0.088674008846283*cosh(0.232024967670441*x)) + 0.0884665413190089*cosh(0.232024967670441*x) + 0.0501416735351086*cosh(x) + 0.0941057602616199*cosh(0.000426375986234416*x**4 + 0.00716032950050424*x**2 - 0.267426419227812*x + 0.088674008846283*cosh(0.232024967670441*x)) + 0.656584621772166"
            ]
          },
          "execution_count": 11,
          "metadata": {},
          "output_type": "execute_result"
        }
      ],
      "source": [
        "y_prediction_best.rewrite(sp.cos)"
      ]
    },
    {
      "cell_type": "markdown",
      "metadata": {},
      "source": [
        "Total loss su išgautu modeliu\n",
        "\n",
        "$ \\displaystyle\n",
        "\\mathcal{L} = \\int_{x} \\int_{c_1} \\left( \\frac{d^2 y}{d x^2} - \\frac{c_1 y}{1 + y} \\right)^2 \\; dc_1 \\; dx\n",
        "$\n"
      ]
    },
    {
      "cell_type": "code",
      "execution_count": null,
      "metadata": {},
      "outputs": [],
      "source": [
        "y_prediction_last_lambd = sp.lambdify([network.x], y_prediction_last, modules=network.lambdify_modules, cse=True)\n",
        "y_prediction_best_lambd = sp.lambdify([network.x], y_prediction_best, modules=network.lambdify_modules, cse=True)"
      ]
    },
    {
      "cell_type": "code",
      "execution_count": null,
      "metadata": {},
      "outputs": [
        {
          "data": {
            "image/png": "[encoded data removed]",
            "text/plain": [
              "<Figure size 432x288 with 1 Axes>"
            ]
          },
          "metadata": {
            "needs_background": "light"
          },
          "output_type": "display_data"
        }
      ],
      "source": [
        "import matplotlib.pyplot as plt\n",
        "\n",
        "xspace = np.linspace(*x_bounds, 100)\n",
        "\n",
        "plotting.show_c2varied_plot(plotting.actual_func, xspace, plotting.c2_bounds)\n",
        "plt.plot(xspace, y_prediction_last_lambd(xspace), label='network last')\n",
        "plt.plot(xspace, y_prediction_best_lambd(xspace), color='orange', label='network best')\n",
        "plt.legend(loc=4)\n",
        "plt.show()"
      ]
    },
    {
      "cell_type": "code",
      "execution_count": null,
      "metadata": {},
      "outputs": [],
      "source": [
        "# c1_integrated_model = network.get_integrated_model_nolambdify(y_prediction_best)"
      ]
    },
    {
      "cell_type": "code",
      "execution_count": null,
      "metadata": {},
      "outputs": [],
      "source": [
        "# TODO:\n",
        "# sp.integrate(c1_integrated_model, (network.x, 0, 1))"
      ]
    },
    {
      "cell_type": "code",
      "execution_count": null,
      "metadata": {},
      "outputs": [],
      "source": []
    }
  ],
  "metadata": {
    "colab": {
      "collapsed_sections": [],
      "name": "Symbolic DARTS #2.ipynb",
      "provenance": []
    },
    "interpreter": {
      "hash": "916dbcbb3f70747c44a77c7bcd40155683ae19c65e1c03b4aa3499c5328201f1"
    },
    "kernelspec": {
      "display_name": "Python 3.10.4 64-bit",
      "language": "python",
      "name": "python3"
    },
    "language_info": {
      "codemirror_mode": {
        "name": "ipython",
        "version": 3
      },
      "file_extension": ".py",
      "mimetype": "text/x-python",
      "name": "python",
      "nbconvert_exporter": "python",
      "pygments_lexer": "ipython3",
      "version": "3.10.4"
    }
  },
  "nbformat": 4,
  "nbformat_minor": 0
}
