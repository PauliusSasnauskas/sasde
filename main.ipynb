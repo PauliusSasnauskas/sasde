{
  "cells": [
    {
      "cell_type": "markdown",
      "metadata": {
        "id": "vnqS-SOZ0eQx"
      },
      "source": [
        "Given\n",
        "$ \\displaystyle\n",
        "    \\frac{d^2 y}{d x^2} - \\frac{c_1 y}{c_2 + y} = 0\n",
        "$\n",
        "find $y$"
      ]
    },
    {
      "cell_type": "markdown",
      "metadata": {
        "id": "jXxOLWY-0sdu"
      },
      "source": [
        "<!-- $ \\displaystyle\n",
        "\\mathcal{L} = \\int_{C} \\left| \\frac{d^2 y}{d x^2} - \\frac{c_1 y}{c_2 + y} \\right| \\; dC\n",
        "$ -->\n",
        "\n",
        "$ \\displaystyle\n",
        "\\mathcal{L} = \\int_{C} \\left( \\frac{d^2 y}{d x^2} - \\frac{c_1 y}{c_2 + y} \\right)^2 \\; dC\n",
        "$\n",
        "\n",
        "\n",
        "$C$ – $c_1$, $c_2$ space\n",
        "\n",
        "\n",
        "\\begin{cases}\n",
        "    c_1 = \\sigma^2 \\quad \\text{(normalizuotas)}\\\\\n",
        "    c_2 = 1\n",
        "\\end{cases}\n",
        "\n"
      ]
    },
    {
      "cell_type": "markdown",
      "metadata": {
        "id": "yE6xpktfCa6x"
      },
      "source": [
        "# DARTS"
      ]
    },
    {
      "cell_type": "markdown",
      "metadata": {
        "id": "y6lPpVmdwQ2C"
      },
      "source": [
        "$ \\displaystyle\n",
        "\\overline{o}^{(i, j)}(x) = \\sum_{o \\in \\mathcal{O}} \\left( \\alpha_o^{(i,j)} o(x) \\right)\n",
        "\\\\ \\displaystyle\n",
        "\\forall (i, j) \\; R = (\\sum_{o \\in \\mathcal{O}} \\alpha_o^{(i, j)} - 1)^2\n",
        "$"
      ]
    },
    {
      "cell_type": "markdown",
      "metadata": {
        "id": "aFSLZ4PfCePp"
      },
      "source": [
        "# Code"
      ]
    },
    {
      "cell_type": "code",
      "execution_count": 1,
      "metadata": {
        "id": "4Q0gm4GgCT-1"
      },
      "outputs": [],
      "source": [
        "import sympy as sp\n",
        "from jax import random\n",
        "import jax.numpy as np\n",
        "\n",
        "# !rm /etc/localtime\n",
        "# !ln -s /usr/share/zoneinfo/Europe/Vilnius /etc/localtime\n",
        "\n",
        "from util.plot import Plotting\n",
        "from util.print import a, d, pad, info\n",
        "from util.dotdict import DotDict\n",
        "from network import Network\n",
        "from train import train"
      ]
    },
    {
      "cell_type": "code",
      "execution_count": 2,
      "metadata": {
        "id": "pkx8jF17zTE_"
      },
      "outputs": [],
      "source": [
        "# def actual_func(z, c_1, c_2=1, c_3=0):\n",
        "#     return c_1 * z - c_2 * c_1 * np.log(c_2 + z) + c_3"
      ]
    },
    {
      "cell_type": "code",
      "execution_count": 3,
      "metadata": {},
      "outputs": [],
      "source": [
        "c1 = sp.symbols('c_1')\n",
        "x_bounds = (0, 4)\n",
        "c1_bounds = (1.4, 1.6)"
      ]
    },
    {
      "cell_type": "code",
      "execution_count": 4,
      "metadata": {},
      "outputs": [],
      "source": [
        "loss_model_func = lambda model_y, x, model_d2y: sp.Pow(model_d2y - c1 * (model_y) / (1 + model_y), 2, evaluate=False)\n",
        "loss_integration_func = lambda loss_model: (loss_model, (c1, *c1_bounds))"
      ]
    },
    {
      "cell_type": "code",
      "execution_count": 11,
      "metadata": {
        "id": "l-uigxRjY6Ce"
      },
      "outputs": [
        {
          "name": "stderr",
          "output_type": "stream",
          "text": [
            "14:48:15.394 [INFO] Constructed symbolic model\n",
            "14:48:15.443 [INFO] Integrated\n",
            "14:48:34.280 [INFO] Substituted y's with replacements\n",
            "14:48:47.139 [INFO] Lambdified\n",
            "14:48:47.140 [INFO] Constructed JAXified model\n"
          ]
        }
      ],
      "source": [
        "cell_count = 5\n",
        "network = Network(\n",
        "  loss_model_func,\n",
        "  loss_integration_func,\n",
        "  [\n",
        "    lambda z: 0,\n",
        "    lambda z: 1,\n",
        "    lambda z: z,\n",
        "    lambda z: -z,\n",
        "    lambda z: z*z,\n",
        "    lambda z: z*z*z*z,\n",
        "    lambda x: sp.sin(x),\n",
        "    lambda z: sp.exp(z),\n",
        "    # lambda x: sp.Max(x, np.array(0)),\n",
        "    lambda x: 1 / (1 + sp.exp(-x))\n",
        "  ],\n",
        "  cell_count,\n",
        "  x_bounds)\n",
        "\n",
        "_, model_y, loss_and_grad, _ = network.get_model()"
      ]
    },
    {
      "cell_type": "code",
      "execution_count": 12,
      "metadata": {},
      "outputs": [],
      "source": [
        "# model_y_numeric = model_y.subs(list(zip(network.alphas, [0.01]*19)))\n",
        "# loss_model = loss_model_func(model_y_numeric, network.x)\n",
        "# loss_integrated = sp.integrate(*loss_integration_func(loss_model))\n",
        "# loss_integrated += network.penalties\n",
        "# loss_func = network.lambdify_no_alphas(model_y_numeric)"
      ]
    },
    {
      "cell_type": "code",
      "execution_count": null,
      "metadata": {
        "id": "AedwGmEgYEFT"
      },
      "outputs": [],
      "source": [
        "# plotting = Plotting(actual_func, network, x_bounds, c1_bounds)\n",
        "plotting = Plotting(None, network, x_bounds, c1_bounds)\n",
        "\n",
        "key = random.PRNGKey(7)\n",
        "\n",
        "key, subkey = random.split(key)\n",
        "W = random.uniform(subkey, shape=(len(network.alphas),), minval=0, maxval=0.001)\n",
        "\n",
        "is_final = False\n",
        "\n",
        "best = DotDict({\"loss\": np.inf})\n",
        "\n",
        "while not is_final:\n",
        "    plotting.funcs = []\n",
        "    train_results = train(\n",
        "        network,\n",
        "        dataset = [(0, -0.6081976)],\n",
        "        plotting = plotting,\n",
        "        key = key,\n",
        "        lr = 0.00001,\n",
        "        lr_2 = 0,\n",
        "        epochs = 20,\n",
        "        verbose = 0,\n",
        "        batch_size = 16,\n",
        "        W_init = W,\n",
        "        best = best\n",
        "    )\n",
        "\n",
        "    W = train_results.W\n",
        "    loss_history = train_results.loss_history\n",
        "\n",
        "    info('Pruning weights...')\n",
        "    network.assign_weights(W)\n",
        "    W, model_y, loss_and_grad, is_final = network.prune_auto()"
      ]
    },
    {
      "cell_type": "code",
      "execution_count": 14,
      "metadata": {},
      "outputs": [
        {
          "data": {
            "text/plain": [
              "{'loss': DeviceArray(0.00680969, dtype=float32),\n",
              " 'model_y': -a_o2__01__04*a_o3__00__01*x + a_o3__00__02*a_o3__02__04*x - a_o3__03__04*(a_o3__00__01*a_o3__01__03*x + a_o3__00__02*a_o3__02__03*x - a_o3__00__03*x) + a_o4__00__04*x**2 + b,\n",
              " 'alphas': [a_o3__00__01,\n",
              "  a_o3__00__02,\n",
              "  a_o3__00__03,\n",
              "  a_o4__00__04,\n",
              "  a_o0__01__02,\n",
              "  a_o3__01__03,\n",
              "  a_o2__01__04,\n",
              "  a_o3__02__03,\n",
              "  a_o3__02__04,\n",
              "  a_o3__03__04,\n",
              "  b],\n",
              " 'W': DeviceArray([ 0.02642444,  0.04561374,  0.06300088,  0.07093308,\n",
              "               0.07661124,  0.08353736,  0.09056003,  0.09431309,\n",
              "               0.09922865,  0.10418268, -0.00886083], dtype=float32)}"
            ]
          },
          "execution_count": 14,
          "metadata": {},
          "output_type": "execute_result"
        }
      ],
      "source": [
        "best"
      ]
    },
    {
      "cell_type": "code",
      "execution_count": 15,
      "metadata": {},
      "outputs": [
        {
          "data": {
            "text/latex": [
              "$\\displaystyle - a^{01 04}_{o2} a^{00 01}_{o3} x + a^{00 02}_{o3} a^{02 04}_{o3} x - a^{03 04}_{o3} \\left(a^{00 01}_{o3} a^{01 03}_{o3} x + a^{00 02}_{o3} a^{02 03}_{o3} x - a^{00 03}_{o3} x\\right) + a^{00 04}_{o4} x^{2} + b$"
            ],
            "text/plain": [
              "-a_o2__01__04*a_o3__00__01*x + a_o3__00__02*a_o3__02__04*x - a_o3__03__04*(a_o3__00__01*a_o3__01__03*x + a_o3__00__02*a_o3__02__03*x - a_o3__00__03*x) + a_o4__00__04*x**2 + b"
            ]
          },
          "execution_count": 15,
          "metadata": {},
          "output_type": "execute_result"
        }
      ],
      "source": [
        "best.model_y"
      ]
    },
    {
      "cell_type": "code",
      "execution_count": 17,
      "metadata": {},
      "outputs": [
        {
          "data": {
            "text/latex": [
              "$\\displaystyle 0.0709330812096596 x^{2} + 0.00801862575846662 x - 0.00886083394289017$"
            ],
            "text/plain": [
              "0.0709330812096596*x**2 + 0.00801862575846662*x - 0.00886083394289017"
            ]
          },
          "execution_count": 17,
          "metadata": {},
          "output_type": "execute_result"
        }
      ],
      "source": [
        "best.model_y.subs(zip(best.alphas, best.W))"
      ]
    },
    {
      "cell_type": "code",
      "execution_count": null,
      "metadata": {},
      "outputs": [],
      "source": []
    }
  ],
  "metadata": {
    "colab": {
      "collapsed_sections": [],
      "name": "Symbolic DARTS #2.ipynb",
      "provenance": []
    },
    "interpreter": {
      "hash": "916dbcbb3f70747c44a77c7bcd40155683ae19c65e1c03b4aa3499c5328201f1"
    },
    "kernelspec": {
      "display_name": "Python 3.10.4 64-bit",
      "language": "python",
      "name": "python3"
    },
    "language_info": {
      "codemirror_mode": {
        "name": "ipython",
        "version": 3
      },
      "file_extension": ".py",
      "mimetype": "text/x-python",
      "name": "python",
      "nbconvert_exporter": "python",
      "pygments_lexer": "ipython3",
      "version": "3.10.4"
    }
  },
  "nbformat": 4,
  "nbformat_minor": 0
}
