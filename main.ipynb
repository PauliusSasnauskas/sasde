{
  "cells": [
    {
      "cell_type": "markdown",
      "metadata": {
        "id": "vnqS-SOZ0eQx"
      },
      "source": [
        "Given\n",
        "$ \\displaystyle\n",
        "    \\frac{d^2 y}{d x^2} - \\frac{c_1 y}{c_2 + y} = 0\n",
        "$\n",
        "find $y$"
      ]
    },
    {
      "cell_type": "markdown",
      "metadata": {
        "id": "jXxOLWY-0sdu"
      },
      "source": [
        "$ \\displaystyle\n",
        "\\mathcal{L} = \\int_{C} \\left| \\frac{d^2 y}{d x^2} - \\frac{c_1 y}{c_2 + y} \\right| \\; dC\n",
        "$\n",
        "\n",
        "$ \\displaystyle\n",
        "\\mathcal{L} = \\int_{C} \\left( \\frac{d^2 y}{d x^2} - \\frac{c_1 y}{c_2 + y} \\right)^2 \\; dC\n",
        "$\n",
        "\n",
        "\n",
        "$C$ – $c_1$, $c_2$ space\n",
        "\n",
        "\n",
        "\\begin{cases}\n",
        "    c_1 = \\sigma^2 \\quad \\text{(normalizuotas)}\\\\\n",
        "    c_2 = 1\n",
        "\\end{cases}\n",
        "\n"
      ]
    },
    {
      "cell_type": "markdown",
      "metadata": {
        "id": "yE6xpktfCa6x"
      },
      "source": [
        "# DARTS"
      ]
    },
    {
      "cell_type": "markdown",
      "metadata": {
        "id": "y6lPpVmdwQ2C"
      },
      "source": [
        "$ \\displaystyle\n",
        "\\overline{o}^{(i, j)}(x) = \\sum_{o \\in \\mathcal{O}} \\left( \\alpha_o^{(i,j)} o(x) \\right)\n",
        "\\\\ \\displaystyle\n",
        "\\forall (i, j) \\; R = (\\sum_{o \\in \\mathcal{O}} \\alpha_o^{(i, j)} - 1)^2\n",
        "$"
      ]
    },
    {
      "cell_type": "markdown",
      "metadata": {
        "id": "aFSLZ4PfCePp"
      },
      "source": [
        "# Code"
      ]
    },
    {
      "cell_type": "code",
      "execution_count": 1,
      "metadata": {
        "id": "4Q0gm4GgCT-1"
      },
      "outputs": [],
      "source": [
        "import sympy as sp\n",
        "from jax import random\n",
        "import jax.numpy as np\n",
        "\n",
        "# !rm /etc/localtime\n",
        "# !ln -s /usr/share/zoneinfo/Europe/Vilnius /etc/localtime\n",
        "\n",
        "from util.plot import Plotting\n",
        "from util.print import a, d, pad, info\n",
        "from network import Network\n",
        "from train import train"
      ]
    },
    {
      "cell_type": "code",
      "execution_count": 2,
      "metadata": {
        "id": "pkx8jF17zTE_"
      },
      "outputs": [],
      "source": [
        "def actual_func(z, c_1, c_2=1, c_3=0):\n",
        "    return c_1 * z - c_2 * c_1 * np.log(c_2 + z) + c_3"
      ]
    },
    {
      "cell_type": "code",
      "execution_count": 3,
      "metadata": {},
      "outputs": [],
      "source": [
        "c1 = sp.symbols('c_1')\n",
        "x_bounds = (0, 4)\n",
        "c1_bounds = (1.4, 1.6)"
      ]
    },
    {
      "cell_type": "code",
      "execution_count": 4,
      "metadata": {},
      "outputs": [],
      "source": [
        "loss_model_func = lambda model_y, x, model_d2y: sp.Pow(model_d2y - c1 * (model_y) / (1 + model_y), 2, evaluate=False)\n",
        "loss_integration_func = lambda loss_model: (loss_model, (c1, *c1_bounds))"
      ]
    },
    {
      "cell_type": "code",
      "execution_count": 5,
      "metadata": {
        "id": "l-uigxRjY6Ce"
      },
      "outputs": [
        {
          "name": "stderr",
          "output_type": "stream",
          "text": [
            "22:03:18.785 [INFO] Unable to initialize backend 'tpu_driver': NOT_FOUND: Unable to find driver in registry given worker: \n",
            "22:03:18.785 [INFO] Unable to initialize backend 'gpu': NOT_FOUND: Could not find registered platform with name: \"cuda\". Available platform names are: Host Interpreter\n",
            "22:03:18.786 [INFO] Unable to initialize backend 'tpu': INVALID_ARGUMENT: TpuPlatform is not available.\n",
            "22:03:19.402 [INFO] Constructed symbolic model\n",
            "22:03:19.462 [INFO] Integrated\n",
            "22:03:22.558 [INFO] Substituted y's with replacements\n",
            "22:03:24.665 [INFO] Lambdified\n",
            "22:03:24.666 [INFO] Constructed JAXified model\n"
          ]
        }
      ],
      "source": [
        "cell_count = 5\n",
        "network = Network(\n",
        "  loss_model_func,\n",
        "  loss_integration_func,\n",
        "  [\n",
        "    lambda z: 0,\n",
        "    lambda z: 1,\n",
        "    # lambda z: -1,\n",
        "    lambda z: z,\n",
        "    lambda z: -z,\n",
        "    lambda z: z*z,\n",
        "    lambda z: z*z*z*z,\n",
        "    # lambda z: z*z,\n",
        "    lambda x: sp.sin(x),\n",
        "    # lambda z: sp.exp(z),\n",
        "    # lambda x: sp.Max(x, 0)\n",
        "    # lambda x: 1 / (1 + sp.exp(-x))\n",
        "], cell_count, x_bounds)\n",
        "\n",
        "_, model_y, loss_and_grad, _ = network.get_model()"
      ]
    },
    {
      "cell_type": "code",
      "execution_count": 6,
      "metadata": {},
      "outputs": [],
      "source": [
        "# model_y_numeric = model_y.subs(list(zip(network.alphas, [0.01]*19)))\n",
        "# loss_model = loss_model_func(model_y_numeric, network.x)\n",
        "# loss_integrated = sp.integrate(*loss_integration_func(loss_model))\n",
        "# loss_integrated += network.penalties\n",
        "# loss_func = network.lambdify_no_alphas(model_y_numeric)"
      ]
    },
    {
      "cell_type": "code",
      "execution_count": null,
      "metadata": {
        "id": "AedwGmEgYEFT"
      },
      "outputs": [],
      "source": [
        "plotting = Plotting(actual_func, network, x_bounds, c1_bounds)\n",
        "\n",
        "key = random.PRNGKey(7)\n",
        "\n",
        "key, subkey = random.split(key)\n",
        "W = random.uniform(subkey, shape=(len(network.alphas),), minval=0, maxval=0.001)\n",
        "\n",
        "is_final = False\n",
        "\n",
        "while not is_final:\n",
        "    plotting.funcs = []\n",
        "    W, loss_history, plotting_new = train(\n",
        "        network,\n",
        "        dataset = [(0, -0.6081976)],\n",
        "        plotting = plotting,\n",
        "        key = key,\n",
        "        lr = 0.00001,\n",
        "        lr_2 = 0,\n",
        "        epochs = 20,\n",
        "        verbose = 0,\n",
        "        batch_size = 16,\n",
        "        W_init = W\n",
        "    )\n",
        "\n",
        "    info('Pruning weights...')\n",
        "    network.assign_weights(W)\n",
        "    W, model_y, loss_and_grad, is_final = network.prune_auto()"
      ]
    },
    {
      "cell_type": "code",
      "execution_count": 13,
      "metadata": {},
      "outputs": [
        {
          "data": {
            "text/markdown": [
              "$\\displaystyle a^{00 01}_{o3} a^{01 04}_{o3} x + a^{00 04}_{o4} x^{2} + b$"
            ]
          },
          "metadata": {},
          "output_type": "display_data"
        },
        {
          "name": "stdout",
          "output_type": "stream",
          "text": [
            "[ 0.02448162  0.04430607  0.0638416   0.06009255  0.08514406  0.09465025\n",
            "  0.10283581  0.1091663   0.11545928  0.1206207  -0.00810865]\n"
          ]
        },
        {
          "data": {
            "text/plain": [
              "[a_o3__00__01,\n",
              " a_o6__00__02,\n",
              " a_o3__00__03,\n",
              " a_o4__00__04,\n",
              " a_o2__01__02,\n",
              " a_o0__01__03,\n",
              " a_o3__01__04,\n",
              " a_o4__02__03,\n",
              " a_o0__02__04,\n",
              " a_o0__03__04,\n",
              " b]"
            ]
          },
          "execution_count": 13,
          "metadata": {},
          "output_type": "execute_result"
        }
      ],
      "source": [
        "d(model_y)\n",
        "print(W)\n",
        "network.alphas"
      ]
    },
    {
      "cell_type": "code",
      "execution_count": 23,
      "metadata": {},
      "outputs": [
        {
          "data": {
            "text/latex": [
              "$\\displaystyle 0.0600925497710705 x^{2} + 0.00251758694648568 x - 0.00810864847153425$"
            ],
            "text/plain": [
              "0.0600925497710705*x**2 + 0.00251758694648568*x - 0.00810864847153425"
            ]
          },
          "execution_count": 23,
          "metadata": {},
          "output_type": "execute_result"
        }
      ],
      "source": [
        "model_y.subs(zip(network.alphas, W))"
      ]
    },
    {
      "cell_type": "code",
      "execution_count": null,
      "metadata": {},
      "outputs": [],
      "source": []
    }
  ],
  "metadata": {
    "colab": {
      "collapsed_sections": [],
      "name": "Symbolic DARTS #2.ipynb",
      "provenance": []
    },
    "interpreter": {
      "hash": "916dbcbb3f70747c44a77c7bcd40155683ae19c65e1c03b4aa3499c5328201f1"
    },
    "kernelspec": {
      "display_name": "Python 3.10.4 64-bit",
      "language": "python",
      "name": "python3"
    },
    "language_info": {
      "codemirror_mode": {
        "name": "ipython",
        "version": 3
      },
      "file_extension": ".py",
      "mimetype": "text/x-python",
      "name": "python",
      "nbconvert_exporter": "python",
      "pygments_lexer": "ipython3",
      "version": "3.10.4"
    }
  },
  "nbformat": 4,
  "nbformat_minor": 0
}
