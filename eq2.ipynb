{
 "cells": [
  {
   "cell_type": "code",
   "execution_count": 4,
   "metadata": {},
   "outputs": [],
   "source": [
    "import sympy as sp\n",
    "import jax.numpy as np\n",
    "import matplotlib.pyplot as plt\n",
    "\n",
    "from util.interfaces import Config, EqInfo, Hyperparameters, VarInfo\n",
    "from main import run"
   ]
  },
  {
   "cell_type": "code",
   "execution_count": 5,
   "metadata": {},
   "outputs": [],
   "source": [
    "config = Config(\n",
    "  eq = EqInfo(\n",
    "    name = 'S',\n",
    "    function = lambda s: s.d2Sdx2 - s.k ** 2 * s.S / (1 + s.S) - s.dSdt,\n",
    "  ),\n",
    "  vars = {\n",
    "    'x': VarInfo(bounds=(0, 1), integrable=False),\n",
    "    'k': VarInfo(bounds=(0.01, 1), integrable=False, symbol=r'\\sigma'),\n",
    "    't': VarInfo(bounds=(0.001, 10), integrable=False),\n",
    "    'S0': VarInfo(bounds=(0, 5), integrable=False, symbol=r'S_0')\n",
    "  },\n",
    "  conditions = [\n",
    "    (1., lambda s: s.S.subs(s.t, 0)),\n",
    "    (1., lambda s: s.S.subs(s.x, 1).subs(s.t, 0) - s.S0),\n",
    "    (1., lambda s: s.S.subs(s.x, 1) - s.S0),\n",
    "    (1., lambda s: s.dSdx.subs(s.x, 0)),\n",
    "  ],\n",
    "  preoperations = [\n",
    "    lambda x, k, t, S0: 1,\n",
    "    lambda x, k, t, S0: x,\n",
    "    lambda x, k, t, S0: k,\n",
    "    lambda x, k, t, S0: t,\n",
    "    lambda x, k, t, S0: S0,\n",
    "    lambda x, k, t, S0: x - k,\n",
    "    lambda x, k, t, S0: 1 / sp.cosh(k),\n",
    "  ],\n",
    "  operations = [\n",
    "    lambda z: 0,\n",
    "    lambda z: 1,\n",
    "    lambda z: z,\n",
    "    lambda z: z**2,\n",
    "    lambda z: z + 1,\n",
    "    lambda z: 1 / z,\n",
    "    lambda z: -z,\n",
    "    lambda z: sp.cos(z),\n",
    "    lambda z: sp.exp(z),\n",
    "    lambda z: sp.cosh(z),\n",
    "    lambda z: 1 / sp.cos(z),\n",
    "  ],\n",
    "  hyperparameters = Hyperparameters(\n",
    "    lr = 0.00001,\n",
    "    penalty = 1,\n",
    "    cellcount = 4,\n",
    "  ),\n",
    "  epochs = 128,\n",
    "  batchsize = 64,\n",
    "  verbosity = 1,\n",
    "  gradclip = True,\n",
    "  seed = 2,\n",
    ")"
   ]
  },
  {
   "cell_type": "code",
   "execution_count": 6,
   "metadata": {},
   "outputs": [
    {
     "name": "stderr",
     "output_type": "stream",
     "text": [
      "15:28:01.256 [INFO] Constructed symbolic model\n",
      "15:33:23.487 [INFO] Constructed loss equation\n",
      "15:33:30.918 [INFO] Constructed JAXified model\n"
     ]
    },
    {
     "ename": "UnboundLocalError",
     "evalue": "local variable 'opt_state' referenced before assignment",
     "output_type": "error",
     "traceback": [
      "\u001b[0;31m---------------------------------------------------------------------------\u001b[0m",
      "\u001b[0;31mUnboundLocalError\u001b[0m                         Traceback (most recent call last)",
      "Cell \u001b[0;32mIn[6], line 1\u001b[0m\n\u001b[0;32m----> 1\u001b[0m network, best, loss_histories \u001b[39m=\u001b[39m run(config)\n",
      "File \u001b[0;32m~/Desktop/symml/main.py:51\u001b[0m, in \u001b[0;36mrun\u001b[0;34m(config)\u001b[0m\n\u001b[1;32m     49\u001b[0m \u001b[39mtry\u001b[39;00m:\n\u001b[1;32m     50\u001b[0m     \u001b[39mwhile\u001b[39;00m \u001b[39mnot\u001b[39;00m network\u001b[39m.\u001b[39mis_final:\n\u001b[0;32m---> 51\u001b[0m         train_results \u001b[39m=\u001b[39m train(\n\u001b[1;32m     52\u001b[0m             network,\n\u001b[1;32m     53\u001b[0m             config \u001b[39m=\u001b[39;49m config,\n\u001b[1;32m     54\u001b[0m             key \u001b[39m=\u001b[39;49m key,\n\u001b[1;32m     55\u001b[0m             W_init \u001b[39m=\u001b[39;49m W\n\u001b[1;32m     56\u001b[0m         )\n\u001b[1;32m     58\u001b[0m         W \u001b[39m=\u001b[39m train_results\u001b[39m.\u001b[39mW\n\u001b[1;32m     59\u001b[0m         best \u001b[39m=\u001b[39m train_results\u001b[39m.\u001b[39mbest\n",
      "File \u001b[0;32m~/Desktop/symml/train.py:79\u001b[0m, in \u001b[0;36mtrain\u001b[0;34m(network, config, key, W_init)\u001b[0m\n\u001b[1;32m     76\u001b[0m grad_avg \u001b[39m=\u001b[39m np\u001b[39m.\u001b[39maverage(grad, axis\u001b[39m=\u001b[39m\u001b[39m0\u001b[39m)\n\u001b[1;32m     77\u001b[0m loss_avg \u001b[39m=\u001b[39m np\u001b[39m.\u001b[39maverage(loss)\n\u001b[0;32m---> 79\u001b[0m updates, opt_state \u001b[39m=\u001b[39m optimizer\u001b[39m.\u001b[39mupdate(grad_avg, opt_state)\n\u001b[1;32m     80\u001b[0m W \u001b[39m=\u001b[39m optax\u001b[39m.\u001b[39mapply_updates(W, updates)\n\u001b[1;32m     82\u001b[0m \u001b[39m# if np.any(nan_locs):\u001b[39;00m\n\u001b[1;32m     83\u001b[0m \u001b[39m#     info('Gradients are nan, mitigating...')\u001b[39;00m\n\u001b[1;32m     84\u001b[0m \u001b[39m#     W.at[np.isnan(grad_avg)].set(0)\u001b[39;00m\n\u001b[0;32m   (...)\u001b[0m\n\u001b[1;32m     88\u001b[0m \n\u001b[1;32m     89\u001b[0m \u001b[39m# W -= config.hyperparameters.lr * grad_avg\u001b[39;00m\n",
      "\u001b[0;31mUnboundLocalError\u001b[0m: local variable 'opt_state' referenced before assignment"
     ]
    }
   ],
   "source": [
    "network, best, loss_histories = run(config)"
   ]
  },
  {
   "cell_type": "code",
   "execution_count": null,
   "metadata": {},
   "outputs": [
    {
     "data": {
      "text/plain": [
       "Array(6.6029634, dtype=float32)"
      ]
     },
     "execution_count": 4,
     "metadata": {},
     "output_type": "execute_result"
    }
   ],
   "source": [
    "best.loss"
   ]
  },
  {
   "cell_type": "code",
   "execution_count": null,
   "metadata": {},
   "outputs": [
    {
     "name": "stdout",
     "output_type": "stream",
     "text": [
      "- 0.530156373977661 k + 0.530156373977661 x + 0.481119031042935 e^{0.345949351787567 k} + 0.125717446117174\n"
     ]
    }
   ],
   "source": [
    "y_prediction_best = best.model_y.subs(zip(best.alphas, best.W))\n",
    "print(sp.latex(y_prediction_best))"
   ]
  },
  {
   "cell_type": "code",
   "execution_count": null,
   "metadata": {},
   "outputs": [],
   "source": [
    "from jax import vmap\n",
    "x = network.symbols.x\n",
    "k = network.symbols.k\n",
    "t = network.symbols.t\n",
    "S0 = network.symbols.S0\n",
    "y_pred_fn = sp.lambdify([x, k, t, S0], y_prediction_best)#, (0, None, None, None))"
   ]
  },
  {
   "cell_type": "code",
   "execution_count": null,
   "metadata": {},
   "outputs": [
    {
     "data": {
      "text/plain": [
       "Array([0.83583456, 0.88885015], dtype=float32)"
      ]
     },
     "execution_count": 7,
     "metadata": {},
     "output_type": "execute_result"
    }
   ],
   "source": [
    "y_pred_fn(np.array([0.5, 0.6]), np.array(0.1), np.array(0), np.array(1))"
   ]
  },
  {
   "cell_type": "code",
   "execution_count": null,
   "metadata": {},
   "outputs": [
    {
     "data": {
      "image/png": "[encoded data removed]",
      "text/plain": [
       "<Figure size 1280x300 with 4 Axes>"
      ]
     },
     "metadata": {},
     "output_type": "display_data"
    }
   ],
   "source": [
    "x_try = np.linspace(0, 1, 50)\n",
    "k_tries = np.linspace(0.01, 1, 4, True)\n",
    "t_try = 0\n",
    "S0_try = 1\n",
    "fig, axs = plt.subplots(1, len(k_tries), sharey=True)\n",
    "fig.set_size_inches(len(k_tries)*3.2, 3)\n",
    "\n",
    "for ax, k_try in zip(axs, k_tries):\n",
    "  ax.set_title(f'$k$ = {k_try:.2f}')\n",
    "  ax.plot(x_try, y_pred_fn(x_try, k_try, t_try, S0_try), label=f'prediction')\n",
    "  # ax.legend()\n",
    "plt.show()"
   ]
  }
 ],
 "metadata": {
  "kernelspec": {
   "display_name": "venv",
   "language": "python",
   "name": "python3"
  },
  "language_info": {
   "codemirror_mode": {
    "name": "ipython",
    "version": 3
   },
   "file_extension": ".py",
   "mimetype": "text/x-python",
   "name": "python",
   "nbconvert_exporter": "python",
   "pygments_lexer": "ipython3",
   "version": "3.10.6"
  },
  "orig_nbformat": 4,
  "vscode": {
   "interpreter": {
    "hash": "76a75d6e8687425ce599d3590527ed00e10d2b67147b312603dcc1dc66cf2f9f"
   }
  }
 },
 "nbformat": 4,
 "nbformat_minor": 2
}
