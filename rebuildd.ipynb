{
 "cells": [
  {
   "cell_type": "code",
   "execution_count": 1,
   "metadata": {},
   "outputs": [],
   "source": [
    "from jax import numpy as np, random\n",
    "import haiku as hk\n",
    "\n",
    "from rebuild import Network"
   ]
  },
  {
   "cell_type": "code",
   "execution_count": 2,
   "metadata": {},
   "outputs": [
    {
     "name": "stderr",
     "output_type": "stream",
     "text": [
      "2023-11-16 23:42:28.796010: E external/xla/xla/stream_executor/cuda/cuda_driver.cc:273] failed call to cuInit: CUDA_ERROR_UNKNOWN: unknown error\n",
      "CUDA backend failed to initialize: FAILED_PRECONDITION: No visible GPU devices. (Set TF_CPP_MIN_LOG_LEVEL=0 and rerun for more info.)\n"
     ]
    },
    {
     "data": {
      "text/plain": [
       "{'network': {'a__0_1': Array([-1.4203988 , -0.93670845,  0.96467525], dtype=float32),\n",
       "  'b__0_1': Array([0.20224455], dtype=float32),\n",
       "  'a__0_2': Array([-0.13878942,  2.5460804 , -0.68936896], dtype=float32),\n",
       "  'b__0_2': Array([-0.05889598], dtype=float32),\n",
       "  'a__1_2': Array([0.18111277, 0.0383852 , 1.5622975 ], dtype=float32),\n",
       "  'b__1_2': Array([-0.14514953], dtype=float32)}}"
      ]
     },
     "execution_count": 2,
     "metadata": {},
     "output_type": "execute_result"
    }
   ],
   "source": [
    "\n",
    "\n",
    "preoperations = [lambda x, k: x, lambda x, k: k, lambda x, k: 0]\n",
    "operations = [lambda z, x, k: z, lambda z, x, k: 0, lambda z, x, k: z**2]\n",
    "def network_forward(x):\n",
    "  n = Network(3, preoperations, operations)\n",
    "  return n(x)\n",
    "\n",
    "net = hk.transform(network_forward)\n",
    "net.init(random.PRNGKey(7), np.array([0., 0.]))"
   ]
  }
 ],
 "metadata": {
  "kernelspec": {
   "display_name": "venv",
   "language": "python",
   "name": "python3"
  },
  "language_info": {
   "codemirror_mode": {
    "name": "ipython",
    "version": 3
   },
   "file_extension": ".py",
   "mimetype": "text/x-python",
   "name": "python",
   "nbconvert_exporter": "python",
   "pygments_lexer": "ipython3",
   "version": "3.11.4"
  }
 },
 "nbformat": 4,
 "nbformat_minor": 2
}
