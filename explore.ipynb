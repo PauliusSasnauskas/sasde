{
 "cells": [
  {
   "cell_type": "markdown",
   "metadata": {},
   "source": [
    "## Heat equation\n",
    "\n",
    "$ \\displaystyle\n",
    "  \\frac{\\partial u}{\\partial t} = \\alpha \\frac{\\partial^2 u}{\\partial x^2}\n",
    "$"
   ]
  },
  {
   "cell_type": "markdown",
   "metadata": {},
   "source": [
    "$ \\displaystyle\n",
    "  \\alpha = 0.061644\n",
    "$"
   ]
  },
  {
   "cell_type": "markdown",
   "metadata": {},
   "source": [
    "$ \\displaystyle\n",
    "  \\frac{\\partial u(0, t)}{\\partial x} = 0\n",
    "$"
   ]
  },
  {
   "cell_type": "markdown",
   "metadata": {},
   "source": [
    "$ \\displaystyle\n",
    "  \\frac{\\partial u(1, t)}{\\partial x} = 0\n",
    "$"
   ]
  },
  {
   "cell_type": "markdown",
   "metadata": {},
   "source": [
    "$ \\displaystyle\n",
    "  u(x, 0) = \\cos(2 x)\n",
    "$"
   ]
  },
  {
   "cell_type": "code",
   "execution_count": 1,
   "metadata": {},
   "outputs": [],
   "source": [
    "import sympy as sp\n",
    "from sympy.core.symbol import Symbol\n",
    "from sympy.core.expr import Expr\n",
    "from util.print import d\n",
    "import matplotlib.pyplot as plt\n",
    "import jax.numpy as np\n",
    "\n",
    "from typing import Callable, Tuple, List"
   ]
  },
  {
   "cell_type": "code",
   "execution_count": 2,
   "metadata": {},
   "outputs": [],
   "source": [
    "alpha = 0.061644"
   ]
  },
  {
   "cell_type": "code",
   "execution_count": 3,
   "metadata": {},
   "outputs": [],
   "source": [
    "# main equation loss\n",
    "def loss_1(uhat, duhat_dx, duhat_dt, d2uhat_dx2, d2uhat_dt2, x, t):\n",
    "  term = duhat_dt - alpha * d2uhat_dx2\n",
    "  return sp.Pow(term, 2, evaluate=False)\n",
    "\n",
    "# boundary condition loss x=0\n",
    "def loss_2(uhat, duhat_dx, duhat_dt, d2uhat_dx2, d2uhat_dt2, x, t):\n",
    "  term = sp.diff(uhat, x).subs(x, 0)\n",
    "  return sp.Pow(term, 2, evaluate=False)\n",
    "\n",
    "# boundary condition loss x=1\n",
    "def loss_3(uhat, duhat_dx, duhat_dt, d2uhat_dx2, d2uhat_dt2, x, t):\n",
    "  term = sp.diff(uhat, x).subs(x, 1)\n",
    "  return sp.Pow(term, 2, evaluate=False)\n",
    "\n",
    "# initial condition loss t=0\n",
    "def loss_4(uhat, duhat_dx, duhat_dt, d2uhat_dx2, d2uhat_dt2, x, t):\n",
    "  term = uhat.subs(t, 0) - sp.cos(2*x)\n",
    "  return sp.Pow(term, 2, evaluate=False)"
   ]
  },
  {
   "cell_type": "code",
   "execution_count": 4,
   "metadata": {},
   "outputs": [],
   "source": [
    "x, t = sp.symbols('x t')\n",
    "uhat, duhat_dx, duhat_dt, d2uhat_dx2, d2uhat_dt2 = sp.symbols(r'\\hat{u}, \\frac{d\\hat{u}}{dx} \\frac{d\\hat{u}}{dt} \\frac{d^2\\hat{u}}{dx^2} \\frac{d^2\\hat{u}}{dt^2}')\n",
    "\n",
    "def symbolic_loss(\n",
    "  loss_and_hyperpar: List[Tuple[Callable[[Expr, Expr, Expr, Expr, Expr, Symbol, Symbol], Expr], float]]\n",
    ") -> Expr:  \n",
    "  total_sum = 0\n",
    "  for loss_func, hyperpar in loss_and_hyperpar:\n",
    "    val = loss_func(uhat, duhat_dx, duhat_dt, d2uhat_dx2, d2uhat_dt2, x, t)\n",
    "    total_sum += hyperpar * val\n",
    "  \n",
    "  return total_sum\n",
    "\n",
    "def evaluate_loss(loss_model: Expr, symbolic_u: Expr) -> Expr:\n",
    "  symbolic_duhat_dx = sp.diff(symbolic_u, x)\n",
    "  symbolic_duhat_dt = sp.diff(symbolic_u, t)\n",
    "  symbolic_d2uhat_dx2 = sp.diff(symbolic_u, x, 2)\n",
    "  symbolic_d2uhat_dt2 = sp.diff(symbolic_u, t, 2)\n",
    "  return loss_model.subs([(uhat, symbolic_u), (duhat_dx, symbolic_duhat_dx), (duhat_dt, symbolic_duhat_dt), (d2uhat_dx2, symbolic_d2uhat_dx2), (d2uhat_dt2, symbolic_d2uhat_dt2)])"
   ]
  },
  {
   "cell_type": "code",
   "execution_count": 5,
   "metadata": {},
   "outputs": [],
   "source": [
    "one_uhat_model = sp.cos(2*x)/t+sp.log(t)*0.18\n",
    "\n",
    "loss_model = symbolic_loss([(loss_1, 1), (loss_2, 0.5), (loss_3, 0.5), (loss_4, 0.5)])\n",
    "loss = evaluate_loss(loss_model, one_uhat_model)"
   ]
  },
  {
   "cell_type": "code",
   "execution_count": 6,
   "metadata": {},
   "outputs": [
    {
     "data": {
      "text/latex": [
       "$\\displaystyle \\left(\\frac{0.246576 \\cos{\\left(2 x \\right)}}{t} + \\frac{0.18}{t} - \\frac{\\cos{\\left(2 x \\right)}}{t^{2}}\\right)^{2} + 0.5 \\left(0.18 \\log{\\left(t \\right)} - \\cos{\\left(2 x \\right)} + \\frac{\\cos{\\left(2 x \\right)}}{t}\\right)^{2}$"
      ],
      "text/plain": [
       "(0.246576*cos(2*x)/t + 0.18/t - cos(2*x)/t**2)**2 + 0.5*(0.18*log(t) - cos(2*x) + cos(2*x)/t)**2"
      ]
     },
     "execution_count": 6,
     "metadata": {},
     "output_type": "execute_result"
    }
   ],
   "source": [
    "loss"
   ]
  },
  {
   "cell_type": "code",
   "execution_count": 10,
   "metadata": {},
   "outputs": [
    {
     "data": {
      "text/latex": [
       "$\\displaystyle 0.0162 \\log{\\left(t \\right)}^{2} - 0.09 \\log{\\left(t \\right)} \\sin{\\left(2 \\right)} + 0.125 \\sin{\\left(2 \\right)} \\cos{\\left(2 \\right)} + 0.25 \\cos^{2}{\\left(2 \\right)} + 0.25 \\sin^{2}{\\left(2 \\right)} + \\frac{0.09 \\log{\\left(t \\right)} \\sin{\\left(2 \\right)}}{t} - \\frac{0.5 \\sin^{2}{\\left(2 \\right)}}{t} - \\frac{0.5 \\cos^{2}{\\left(2 \\right)}}{t} - \\frac{0.25 \\sin{\\left(2 \\right)} \\cos{\\left(2 \\right)}}{t} + \\frac{0.140199930944 \\sin{\\left(2 \\right)} \\cos{\\left(2 \\right)}}{t^{2}} + \\frac{0.0324}{t^{2}} + \\frac{0.04438368 \\sin{\\left(2 \\right)}}{t^{2}} + \\frac{0.280399861888 \\cos^{2}{\\left(2 \\right)}}{t^{2}} + \\frac{0.280399861888 \\sin^{2}{\\left(2 \\right)}}{t^{2}} - \\frac{0.246576 \\sin^{2}{\\left(2 \\right)}}{t^{3}} - \\frac{0.18 \\sin{\\left(2 \\right)}}{t^{3}} - \\frac{0.246576 \\cos^{2}{\\left(2 \\right)}}{t^{3}} - \\frac{0.123288 \\sin{\\left(2 \\right)} \\cos{\\left(2 \\right)}}{t^{3}} + \\frac{0.25 \\sin{\\left(2 \\right)} \\cos{\\left(2 \\right)}}{t^{4}} + \\frac{0.5 \\cos^{2}{\\left(2 \\right)}}{t^{4}} + \\frac{0.5 \\sin^{2}{\\left(2 \\right)}}{t^{4}}$"
      ],
      "text/plain": [
       "0.0162*log(t)**2 - 0.09*log(t)*sin(2) + 0.125*sin(2)*cos(2) + 0.25*cos(2)**2 + 0.25*sin(2)**2 + 0.09*log(t)*sin(2)/t - 0.5*sin(2)**2/t - 0.5*cos(2)**2/t - 0.25*sin(2)*cos(2)/t + 0.140199930944*sin(2)*cos(2)/t**2 + 0.0324/t**2 + 0.04438368*sin(2)/t**2 + 0.280399861888*cos(2)**2/t**2 + 0.280399861888*sin(2)**2/t**2 - 0.246576*sin(2)**2/t**3 - 0.18*sin(2)/t**3 - 0.246576*cos(2)**2/t**3 - 0.123288*sin(2)*cos(2)/t**3 + 0.25*sin(2)*cos(2)/t**4 + 0.5*cos(2)**2/t**4 + 0.5*sin(2)**2/t**4"
      ]
     },
     "execution_count": 10,
     "metadata": {},
     "output_type": "execute_result"
    }
   ],
   "source": [
    "sp.integrate(loss, (x, 0, 1))"
   ]
  },
  {
   "cell_type": "code",
   "execution_count": 34,
   "metadata": {},
   "outputs": [],
   "source": [
    "lambdify_modules = {\n",
    "  \"exp\": np.exp,\n",
    "  \"sin\": np.sin,\n",
    "  \"cos\": np.cos,\n",
    "  \"Min\": np.minimum,\n",
    "  \"Max\": np.maximum,\n",
    "  \"fmin\": np.minimum,\n",
    "  \"fmax\": np.maximum,\n",
    "  \"min\": np.minimum,\n",
    "  \"max\": np.maximum,\n",
    "  \"log\": np.log,\n",
    "  \"Abs\": np.abs,\n",
    "  \"abs\": np.abs\n",
    "}"
   ]
  },
  {
   "cell_type": "code",
   "execution_count": 8,
   "metadata": {},
   "outputs": [],
   "source": [
    "x, t, a = sp.symbols(r\"x t \\alpha\")"
   ]
  },
  {
   "cell_type": "code",
   "execution_count": 18,
   "metadata": {},
   "outputs": [],
   "source": [
    "u = sp.Function('u')(x, t)"
   ]
  },
  {
   "cell_type": "code",
   "execution_count": 19,
   "metadata": {},
   "outputs": [],
   "source": [
    "eq = a * sp.diff(u, x, 2) - sp.diff(u, t)"
   ]
  },
  {
   "cell_type": "markdown",
   "metadata": {},
   "source": [
    "# Testing"
   ]
  },
  {
   "cell_type": "code",
   "execution_count": 39,
   "metadata": {},
   "outputs": [],
   "source": [
    "f = sp.lambdify([x], sp.cos(2*x), modules=lambdify_modules)\n",
    "xspace = np.linspace(0, 1)"
   ]
  },
  {
   "cell_type": "code",
   "execution_count": 45,
   "metadata": {},
   "outputs": [
    {
     "data": {
      "text/plain": [
       "[<matplotlib.lines.Line2D at 0x7f676860c9d0>]"
      ]
     },
     "execution_count": 45,
     "metadata": {},
     "output_type": "execute_result"
    },
    {
     "data": {
      "image/png": "[encoded data removed]",
      "text/plain": [
       "<Figure size 432x288 with 1 Axes>"
      ]
     },
     "metadata": {
      "needs_background": "light"
     },
     "output_type": "display_data"
    }
   ],
   "source": [
    "plt.xlim((0, 1))\n",
    "plt.ylim((0, 1))\n",
    "plt.plot(xspace, f(xspace))"
   ]
  },
  {
   "cell_type": "code",
   "execution_count": 109,
   "metadata": {},
   "outputs": [
    {
     "data": {
      "text/latex": [
       "$\\displaystyle 0.18 \\log{\\left(t \\right)} + \\frac{\\cos{\\left(2 x \\right)}}{t}$"
      ],
      "text/plain": [
       "0.18*log(t) + cos(2*x)/t"
      ]
     },
     "execution_count": 109,
     "metadata": {},
     "output_type": "execute_result"
    }
   ],
   "source": [
    "yhat1 = sp.cos(2*x)/t+sp.log(t)*0.18\n",
    "yhat1"
   ]
  },
  {
   "cell_type": "code",
   "execution_count": 110,
   "metadata": {},
   "outputs": [],
   "source": [
    "ftest = sp.lambdify([x, t], yhat1, modules=lambdify_modules)"
   ]
  },
  {
   "cell_type": "code",
   "execution_count": 108,
   "metadata": {},
   "outputs": [
    {
     "data": {
      "image/png": "[encoded data removed]",
      "text/plain": [
       "<Figure size 432x288 with 1 Axes>"
      ]
     },
     "metadata": {
      "needs_background": "light"
     },
     "output_type": "display_data"
    }
   ],
   "source": [
    "colors = plt.cm.viridis(np.linspace(0, 1, 12))\n",
    "plt.xlim(0, 1)\n",
    "plt.ylim(0, 1)\n",
    "for ti in range(1, 13):\n",
    "  plt.plot(xspace, ftest(xspace, ti), color=colors[ti-1], label=f\"t={ti}\")\n",
    "\n",
    "plt.legend()\n",
    "plt.show()"
   ]
  }
 ],
 "metadata": {
  "kernelspec": {
   "display_name": "Python 3.10.4 64-bit",
   "language": "python",
   "name": "python3"
  },
  "language_info": {
   "codemirror_mode": {
    "name": "ipython",
    "version": 3
   },
   "file_extension": ".py",
   "mimetype": "text/x-python",
   "name": "python",
   "nbconvert_exporter": "python",
   "pygments_lexer": "ipython3",
   "version": "3.10.4"
  },
  "orig_nbformat": 4,
  "vscode": {
   "interpreter": {
    "hash": "916dbcbb3f70747c44a77c7bcd40155683ae19c65e1c03b4aa3499c5328201f1"
   }
  }
 },
 "nbformat": 4,
 "nbformat_minor": 2
}
