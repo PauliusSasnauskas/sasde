{
 "cells": [
  {
   "cell_type": "code",
   "execution_count": null,
   "metadata": {},
   "outputs": [],
   "source": [
    "import sympy as sp\n",
    "import jax.numpy as np\n",
    "import matplotlib.pyplot as plt\n",
    "\n",
    "from util.interfaces import Config, EqInfo, Hyperparameters, VarInfo\n",
    "from main import run"
   ]
  },
  {
   "attachments": {},
   "cell_type": "markdown",
   "metadata": {},
   "source": [
    "Burgers' equation"
   ]
  },
  {
   "attachments": {},
   "cell_type": "markdown",
   "metadata": {},
   "source": [
    "$\n",
    "\\displaystyle \\frac{\\partial u}{\\partial t} + u \\frac{\\partial u}{\\partial x} - \\frac{0.01}{\\pi} \\frac{\\partial^2 u}{\\partial x^2} = 0\n",
    "$\n",
    "\n",
    "$\n",
    "\\displaystyle u(0, x) = -\\sin(\\pi x) \\\\\n",
    "\\displaystyle u(t, -1) = u(t, 1) = 0\n",
    "$"
   ]
  },
  {
   "cell_type": "code",
   "execution_count": 4,
   "metadata": {},
   "outputs": [],
   "source": [
    "config = Config(\n",
    "  eq = EqInfo(\n",
    "    name = 'u',\n",
    "    function = lambda s: s.dudt + s.u * s.dudx - (0.01 / sp.pi) * s.d2udx2,\n",
    "  ),\n",
    "  vars = {\n",
    "    't': VarInfo(bounds=(0, 1), integrable=False),\n",
    "    'x': VarInfo(bounds=(-1, 1), integrable=True)\n",
    "  },\n",
    "  conditions = [\n",
    "      (2., lambda s: s.u.subs(s.t, 0) + sp.sin(sp.pi * s.x)),\n",
    "      (2., lambda s: s.u.subs(s.x, -1)),\n",
    "      (2., lambda s: s.u.subs(s.x, 1)),\n",
    "  ],\n",
    "  preoperations = [\n",
    "    lambda t, x: 0,\n",
    "    lambda t, x: 1,\n",
    "    lambda t, x: t,\n",
    "    lambda t, x: x,\n",
    "    lambda t, x: -x,\n",
    "    lambda t, x: sp.exp(x),\n",
    "    lambda t, x: x * t,\n",
    "    lambda t, x: sp.exp(x) * t,\n",
    "  ],\n",
    "  operations = [\n",
    "    lambda z: 0,\n",
    "    lambda z: 1,\n",
    "    lambda z: z,\n",
    "    lambda z: z + 1,\n",
    "    lambda z: -z,\n",
    "    lambda z: sp.exp(z) + 0,\n",
    "  ],\n",
    "  hyperparameters = Hyperparameters(\n",
    "    lr = 0.0001,\n",
    "    penalty = 1,\n",
    "    cellcount = 5,\n",
    "  ),\n",
    "  epochs = 128,\n",
    "  batchsize = 64,\n",
    "  verbosity = 1,\n",
    ")"
   ]
  },
  {
   "cell_type": "code",
   "execution_count": 5,
   "metadata": {},
   "outputs": [
    {
     "name": "stderr",
     "output_type": "stream",
     "text": [
      "17:45:29.580 [INFO] Constructed symbolic model\n",
      "17:45:30.941 [INFO] Constructed loss equation\n",
      "17:45:34.360 [INFO] Constructed JAXified model\n"
     ]
    },
    {
     "ename": "TypeError",
     "evalue": "Gradient only defined for scalar-output functions. Output was [Traced<ShapedArray(float32[])>with<BatchTrace(level=2/0)> with\n  val = Traced<ShapedArray(float32[64])>with<DynamicJaxprTrace(level=1/0)>\n  batch_dim = 0].",
     "output_type": "error",
     "traceback": [
      "\u001b[0;31m---------------------------------------------------------------------------\u001b[0m",
      "\u001b[0;31mTypeError\u001b[0m                                 Traceback (most recent call last)",
      "    \u001b[0;31m[... skipping hidden 1 frame]\u001b[0m\n",
      "File \u001b[0;32m~/.local/lib/python3.10/site-packages/jax/_src/core.py:1334\u001b[0m, in \u001b[0;36mget_aval\u001b[0;34m(x)\u001b[0m\n\u001b[1;32m   1333\u001b[0m \u001b[39melse\u001b[39;00m:\n\u001b[0;32m-> 1334\u001b[0m   \u001b[39mreturn\u001b[39;00m concrete_aval(x)\n",
      "File \u001b[0;32m~/.local/lib/python3.10/site-packages/jax/_src/core.py:1326\u001b[0m, in \u001b[0;36mconcrete_aval\u001b[0;34m(x)\u001b[0m\n\u001b[1;32m   1325\u001b[0m   \u001b[39mreturn\u001b[39;00m concrete_aval(x\u001b[39m.\u001b[39m__jax_array__())\n\u001b[0;32m-> 1326\u001b[0m \u001b[39mraise\u001b[39;00m \u001b[39mTypeError\u001b[39;00m(\u001b[39mf\u001b[39m\u001b[39m\"\u001b[39m\u001b[39mValue \u001b[39m\u001b[39m{\u001b[39;00m\u001b[39mrepr\u001b[39m(x)\u001b[39m}\u001b[39;00m\u001b[39m with type \u001b[39m\u001b[39m{\u001b[39;00m\u001b[39mtype\u001b[39m(x)\u001b[39m}\u001b[39;00m\u001b[39m is not a valid JAX \u001b[39m\u001b[39m\"\u001b[39m\n\u001b[1;32m   1327\u001b[0m                  \u001b[39m\"\u001b[39m\u001b[39mtype\u001b[39m\u001b[39m\"\u001b[39m)\n",
      "\u001b[0;31mTypeError\u001b[0m: Value [Traced<ShapedArray(float32[])>with<BatchTrace(level=2/0)> with\n  val = Traced<ShapedArray(float32[64])>with<DynamicJaxprTrace(level=1/0)>\n  batch_dim = 0] with type <class 'list'> is not a valid JAX type",
      "\nThe above exception was the direct cause of the following exception:\n",
      "\u001b[0;31mTypeError\u001b[0m                                 Traceback (most recent call last)",
      "\u001b[1;32m/home/paul/Desktop/Symbolic ML/symml/eq4.ipynb Cell 4\u001b[0m in \u001b[0;36m<cell line: 1>\u001b[0;34m()\u001b[0m\n\u001b[0;32m----> <a href='vscode-notebook-cell:/home/paul/Desktop/Symbolic%20ML/symml/eq4.ipynb#W3sZmlsZQ%3D%3D?line=0'>1</a>\u001b[0m network, best, loss_histories \u001b[39m=\u001b[39m run(config)\n",
      "File \u001b[0;32m~/Desktop/Symbolic ML/symml/main.py:52\u001b[0m, in \u001b[0;36mrun\u001b[0;34m(config)\u001b[0m\n\u001b[1;32m     50\u001b[0m \u001b[39mwhile\u001b[39;00m \u001b[39mnot\u001b[39;00m network\u001b[39m.\u001b[39mis_final:\n\u001b[1;32m     51\u001b[0m     key, subkey \u001b[39m=\u001b[39m random\u001b[39m.\u001b[39msplit(key)\n\u001b[0;32m---> 52\u001b[0m     train_results \u001b[39m=\u001b[39m train(\n\u001b[1;32m     53\u001b[0m         network,\n\u001b[1;32m     54\u001b[0m         config \u001b[39m=\u001b[39;49m config,\n\u001b[1;32m     55\u001b[0m         key \u001b[39m=\u001b[39;49m subkey,\n\u001b[1;32m     56\u001b[0m         W_init \u001b[39m=\u001b[39;49m W\n\u001b[1;32m     57\u001b[0m     )\n\u001b[1;32m     59\u001b[0m     W \u001b[39m=\u001b[39m train_results\u001b[39m.\u001b[39mW\n\u001b[1;32m     60\u001b[0m     best \u001b[39m=\u001b[39m train_results\u001b[39m.\u001b[39mbest\n",
      "File \u001b[0;32m~/Desktop/Symbolic ML/symml/train.py:76\u001b[0m, in \u001b[0;36mtrain\u001b[0;34m(network, config, key, W_init)\u001b[0m\n\u001b[1;32m     73\u001b[0m     batches[varname] \u001b[39m=\u001b[39m batch_dataset(input_datasets[varname], config\u001b[39m.\u001b[39mbatchsize)\n\u001b[1;32m     75\u001b[0m \u001b[39mfor\u001b[39;00m batch \u001b[39min\u001b[39;00m \u001b[39mzip\u001b[39m(\u001b[39m*\u001b[39mbatches\u001b[39m.\u001b[39mvalues()): \u001b[39m# minibatches\u001b[39;00m\n\u001b[0;32m---> 76\u001b[0m     loss, grad \u001b[39m=\u001b[39m network\u001b[39m.\u001b[39;49mloss_and_grad(W, \u001b[39m*\u001b[39;49mbatch)\n\u001b[1;32m     78\u001b[0m     nan_locs \u001b[39m=\u001b[39m np\u001b[39m.\u001b[39misnan(grad)\n\u001b[1;32m     79\u001b[0m     grad \u001b[39m=\u001b[39m grad\u001b[39m.\u001b[39mat[nan_locs]\u001b[39m.\u001b[39mset(\u001b[39m0\u001b[39m)\n",
      "    \u001b[0;31m[... skipping hidden 17 frame]\u001b[0m\n",
      "File \u001b[0;32m~/.local/lib/python3.10/site-packages/jax/_src/api.py:742\u001b[0m, in \u001b[0;36m_check_scalar\u001b[0;34m(x)\u001b[0m\n\u001b[1;32m    740\u001b[0m   aval \u001b[39m=\u001b[39m core\u001b[39m.\u001b[39mget_aval(x)\n\u001b[1;32m    741\u001b[0m \u001b[39mexcept\u001b[39;00m \u001b[39mTypeError\u001b[39;00m \u001b[39mas\u001b[39;00m e:\n\u001b[0;32m--> 742\u001b[0m   \u001b[39mraise\u001b[39;00m \u001b[39mTypeError\u001b[39;00m(msg(\u001b[39mf\u001b[39m\u001b[39m\"\u001b[39m\u001b[39mwas \u001b[39m\u001b[39m{\u001b[39;00mx\u001b[39m}\u001b[39;00m\u001b[39m\"\u001b[39m)) \u001b[39mfrom\u001b[39;00m \u001b[39me\u001b[39;00m\n\u001b[1;32m    743\u001b[0m \u001b[39melse\u001b[39;00m:\n\u001b[1;32m    744\u001b[0m   \u001b[39mif\u001b[39;00m \u001b[39misinstance\u001b[39m(aval, ShapedArray):\n",
      "\u001b[0;31mTypeError\u001b[0m: Gradient only defined for scalar-output functions. Output was [Traced<ShapedArray(float32[])>with<BatchTrace(level=2/0)> with\n  val = Traced<ShapedArray(float32[64])>with<DynamicJaxprTrace(level=1/0)>\n  batch_dim = 0]."
     ]
    }
   ],
   "source": [
    "network, best, loss_histories = run(config)"
   ]
  }
 ],
 "metadata": {
  "kernelspec": {
   "display_name": "Python 3",
   "language": "python",
   "name": "python3"
  },
  "language_info": {
   "codemirror_mode": {
    "name": "ipython",
    "version": 3
   },
   "file_extension": ".py",
   "mimetype": "text/x-python",
   "name": "python",
   "nbconvert_exporter": "python",
   "pygments_lexer": "ipython3",
   "version": "3.10.6"
  },
  "orig_nbformat": 4
 },
 "nbformat": 4,
 "nbformat_minor": 2
}
